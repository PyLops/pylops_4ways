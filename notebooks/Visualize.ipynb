{
 "cells": [
  {
   "cell_type": "markdown",
   "metadata": {},
   "source": [
    "# Visualize results of post-stack inversion\n",
    "\n",
    "**Author: M. Ravasi, KAUST**"
   ]
  },
  {
   "cell_type": "markdown",
   "metadata": {},
   "source": [
    "Welcome to the **Solving inverse problem with PyLops in 4 ways** series!\n",
    "\n",
    "The aim of this tutorial is to visualize results of post-stack inversion obtained with different strategies"
   ]
  },
  {
   "cell_type": "code",
   "execution_count": null,
   "metadata": {},
   "outputs": [],
   "source": [
    "%load_ext autoreload\n",
    "%autoreload 2\n",
    "%matplotlib inline\n",
    "\n",
    "import numpy as np\n",
    "import matplotlib.pyplot as plt\n",
    "\n",
    "from plotting import explode_volume"
   ]
  },
  {
   "cell_type": "code",
   "execution_count": null,
   "metadata": {},
   "outputs": [],
   "source": [
    "## MultiGPU2\n",
    "f = np.load('../figs/MultiGPU2/Results.npz')\n",
    "ainv2 = f['aiinv']\n",
    "\n",
    "## MultiGPU3\n",
    "f = np.load('../figs/MultiGPU3/Results.npz')\n",
    "ainv3 = f['aiinv']\n",
    "\n",
    "nil, nxl, nt = ainv2.shape"
   ]
  },
  {
   "cell_type": "code",
   "execution_count": null,
   "metadata": {},
   "outputs": [],
   "source": [
    "explode_volume(ainv2.transpose(2, 1, 0), cmap='terrain', clipval=(ainv2[nil//2, nxl//2].min(), 1.5*ainv2[nil//2, nxl//2].max()),\n",
    "               tlabel='t [ms]', ylabel='IL', xlabel='XL', t=700,\n",
    "               title='Multi-GPU2 Inverted AI', figsize=(15, 9))\n",
    "\n",
    "explode_volume(ainv3.transpose(2, 1, 0), cmap='terrain', clipval=(ainv2[nil//2, nxl//2].min(), 1.5*ainv2[nil//2, nxl//2].max()),\n",
    "               tlabel='t [ms]', ylabel='IL', xlabel='XL', t=700,\n",
    "               title='Multi-GPU3 Inverted AI', figsize=(15, 9))\n",
    "\n",
    "explode_volume(ainv2.transpose(2, 1, 0) - ainv3.transpose(2, 1, 0), \n",
    "               cmap='seismic', clipval=(-0.001*ainv2[nil//2, nxl//2].max(), 0.001*ainv2[nil//2, nxl//2].max()),\n",
    "               tlabel='t [ms]', ylabel='IL', xlabel='XL', t=700,\n",
    "               title='Multi-GPU2 - Multi-GPU3 (x1000)', figsize=(15, 9));"
   ]
  }
 ],
 "metadata": {
  "kernelspec": {
   "display_name": "Python 3 (ipykernel)",
   "language": "python",
   "name": "python3"
  },
  "language_info": {
   "codemirror_mode": {
    "name": "ipython",
    "version": 3
   },
   "file_extension": ".py",
   "mimetype": "text/x-python",
   "name": "python",
   "nbconvert_exporter": "python",
   "pygments_lexer": "ipython3",
   "version": "3.9.19"
  },
  "toc": {
   "base_numbering": 1,
   "nav_menu": {},
   "number_sections": true,
   "sideBar": true,
   "skip_h1_title": false,
   "title_cell": "Table of Contents",
   "title_sidebar": "Contents",
   "toc_cell": false,
   "toc_position": {
    "height": "calc(100% - 180px)",
    "left": "10px",
    "top": "150px",
    "width": "332.796875px"
   },
   "toc_section_display": true,
   "toc_window_display": true
  }
 },
 "nbformat": 4,
 "nbformat_minor": 4
}
